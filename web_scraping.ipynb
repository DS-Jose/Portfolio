{
 "cells": [
  {
   "cell_type": "markdown",
   "id": "b6ada9b3",
   "metadata": {},
   "source": [
    "# Amazon Web Scraping"
   ]
  },
  {
   "cell_type": "markdown",
   "id": "4f803326",
   "metadata": {},
   "source": [
    "The purpose of this project is to create a function that reads the price of \"Gran Turismo 7 Launch Edition – PS5\" everyday on amazon.ca and write a CSV with the price changes. Additionally, there's an option to send an e-mail if the price drops below certain threshold."
   ]
  },
  {
   "cell_type": "code",
   "execution_count": 2,
   "id": "8260d152",
   "metadata": {},
   "outputs": [],
   "source": [
    "# Importing libraries\n",
    "\n",
    "from bs4 import BeautifulSoup\n",
    "import requests\n",
    "import time\n",
    "import datetime\n",
    "import smtplib"
   ]
  },
  {
   "cell_type": "code",
   "execution_count": 3,
   "id": "3ed287f7",
   "metadata": {},
   "outputs": [
    {
     "name": "stdout",
     "output_type": "stream",
     "text": [
      "\n",
      "            Gran Turismo 7 Launch Edition – PS5\n",
      "           \n",
      "\n",
      "                          $89.00\n",
      "                         \n"
     ]
    }
   ],
   "source": [
    "# Connecting to Amazon and pulling in data\n",
    "\n",
    "url = 'https://www.amazon.ca/Gran-Turismo-7-Launch-PS5/dp/B09GTKZNYP'\n",
    "\n",
    "headers = {\"User-Agent\": \"Mozilla/5.0 (Windows NT 10.0; Win64; x64) AppleWebKit/537.36 (KHTML, like Gecko) Chrome/99.0.4844.74 Safari/537.36\", \"Accept-Encoding\":\"gzip, deflate\", \"Accept\":\"text/html,application/xhtml+xml,application/xml;q=0.9,*/*;q=0.8\", \"DNT\":\"1\",\"Connection\":\"close\", \"Upgrade-Insecure-Requests\":\"1\"}\n",
    "\n",
    "page = requests.get(url, headers=headers)\n",
    "\n",
    "soup1 = BeautifulSoup(page.content, 'html.parser')\n",
    "\n",
    "soup2 = BeautifulSoup(soup1.prettify(), 'html.parser')\n",
    "\n",
    "title = soup2.find(id='productTitle').get_text()\n",
    "\n",
    "price = soup2.find('span', 'a-offscreen').get_text()\n",
    "\n",
    "\n",
    "print(title)\n",
    "print(price)"
   ]
  },
  {
   "cell_type": "code",
   "execution_count": 4,
   "id": "39085ffa",
   "metadata": {},
   "outputs": [
    {
     "name": "stdout",
     "output_type": "stream",
     "text": [
      "Gran Turismo 7 Launch Edition – PS5\n",
      "89.00\n"
     ]
    }
   ],
   "source": [
    "# Removing blank spaces and $ sign\n",
    "\n",
    "price = price.strip()[1:]\n",
    "title = title.strip()\n",
    "\n",
    "print(title)\n",
    "print(price)"
   ]
  },
  {
   "cell_type": "code",
   "execution_count": 5,
   "id": "7703aa23",
   "metadata": {},
   "outputs": [
    {
     "name": "stdout",
     "output_type": "stream",
     "text": [
      "2022-03-19\n"
     ]
    }
   ],
   "source": [
    "# Creating a timestamp for the output to track when data was collected\n",
    "\n",
    "import datetime\n",
    "\n",
    "today = datetime.date.today()\n",
    "\n",
    "print(today)"
   ]
  },
  {
   "cell_type": "code",
   "execution_count": 6,
   "id": "11e80feb",
   "metadata": {},
   "outputs": [],
   "source": [
    "# Exporting data to CSV file\n",
    "\n",
    "import csv\n",
    "\n",
    "header = ['Title', 'Price', 'Date']\n",
    "data = [title, price, today]\n",
    "\n",
    "\n",
    "with open('amazon_dataset.csv', 'w', newline='', encoding='utf-8-sig') as f:\n",
    "    writer = csv.writer(f)\n",
    "    writer.writerow(header)\n",
    "    writer.writerow(data)"
   ]
  },
  {
   "cell_type": "code",
   "execution_count": 7,
   "id": "763ce785",
   "metadata": {},
   "outputs": [
    {
     "name": "stdout",
     "output_type": "stream",
     "text": [
      "                                 Title  Price        Date\n",
      "0  Gran Turismo 7 Launch Edition – PS5   89.0  2022-03-19\n"
     ]
    }
   ],
   "source": [
    "import pandas as pd\n",
    "\n",
    "df = pd.read_csv(r'C:\\Users\\Jose\\Documents\\data_science\\portfolio\\python_web_scraping\\amazon_dataset.csv')\n",
    "\n",
    "print(df)"
   ]
  },
  {
   "cell_type": "code",
   "execution_count": 13,
   "id": "fd532b42",
   "metadata": {},
   "outputs": [],
   "source": [
    "# Appending data to the CSV file\n",
    "\n",
    "with open('amazon_dataset.csv', 'a+', newline='', encoding='utf-8-sig') as f:\n",
    "    writer = csv.writer(f)\n",
    "    writer.writerow(data)"
   ]
  },
  {
   "cell_type": "code",
   "execution_count": null,
   "id": "accdcd13",
   "metadata": {},
   "outputs": [],
   "source": [
    "# Creating a function with all of the above code\n",
    "\n",
    "def check_price():\n",
    "    url = 'https://www.amazon.ca/Gran-Turismo-7-Launch-PS5/dp/B09GTKZNYP'\n",
    "    headers = {\"User-Agent\": \"Mozilla/5.0 (Windows NT 10.0; Win64; x64) AppleWebKit/537.36 (KHTML, like Gecko) Chrome/99.0.4844.74 Safari/537.36\", \"Accept-Encoding\":\"gzip, deflate\", \"Accept\":\"text/html,application/xhtml+xml,application/xml;q=0.9,*/*;q=0.8\", \"DNT\":\"1\",\"Connection\":\"close\", \"Upgrade-Insecure-Requests\":\"1\"}\n",
    "    page = requests.get(url, headers=headers)\n",
    "    soup1 = BeautifulSoup(page.content, 'html.parser')\n",
    "    soup2 = BeautifulSoup(soup1.prettify(), 'html.parser')\n",
    "    title = soup2.find(id='productTitle').get_text()\n",
    "    price = soup2.find('span', 'a-offscreen').get_text()\n",
    "    price = price.strip()[1:]\n",
    "    title = title.strip()\n",
    "    import datetime\n",
    "    today = datetime.date.today()\n",
    "    import csv\n",
    "    header = ['Title', 'Price', 'Date']\n",
    "    data = [title, price, today]\n",
    "    with open('amazon_dataset.csv', 'a+', newline='', encoding='utf-8-sig') as f:\n",
    "        writer = csv.writer(f)\n",
    "        writer.writerow(data)"
   ]
  },
  {
   "cell_type": "code",
   "execution_count": null,
   "id": "81f19e7b",
   "metadata": {},
   "outputs": [],
   "source": [
    "# Setting check_price to run after a set time and input data into the CSV file\n",
    "\n",
    "while(True):\n",
    "    check_price()\n",
    "    time.sleep(86400)"
   ]
  },
  {
   "cell_type": "code",
   "execution_count": 14,
   "id": "f3d1457e",
   "metadata": {},
   "outputs": [
    {
     "name": "stdout",
     "output_type": "stream",
     "text": [
      "                                 Title  Price        Date\n",
      "0  Gran Turismo 7 Launch Edition – PS5   89.0  2022-03-19\n",
      "1  Gran Turismo 7 Launch Edition – PS5   89.0  2022-03-19\n",
      "2  Gran Turismo 7 Launch Edition – PS5   89.0  2022-03-19\n",
      "3  Gran Turismo 7 Launch Edition – PS5   89.0  2022-03-19\n",
      "4  Gran Turismo 7 Launch Edition – PS5   89.0  2022-03-19\n",
      "5  Gran Turismo 7 Launch Edition – PS5   89.0  2022-03-19\n",
      "6  Gran Turismo 7 Launch Edition – PS5   89.0  2022-03-19\n"
     ]
    }
   ],
   "source": [
    "import pandas as pd\n",
    "\n",
    "df = pd.read_csv(r'C:\\Users\\Jose\\Documents\\data_science\\portfolio\\python_web_scraping\\amazon_dataset.csv')\n",
    "\n",
    "print(df)"
   ]
  },
  {
   "cell_type": "code",
   "execution_count": null,
   "id": "368850d1",
   "metadata": {},
   "outputs": [],
   "source": [
    "# Sending myself an e-mail when price is below a certain level\n",
    "\n",
    "def send_mail():\n",
    "    server = smtplib.SMTP_SSL('smtp.gmail.com',465)\n",
    "    server.ehlo()\n",
    "    #server.starttls()\n",
    "    server.ehlo()\n",
    "    server.login('jose.uvic@gmail.com','xxxxxxxxxxxxxx')\n",
    "    \n",
    "    subject = \"Gran Turismo 7 Launch Edition – PS5 is below $70! Now is your chance to buy!\"\n",
    "    body = \"Jose, this is the moment you've been waiting for. Now is your chance to pick up  Gran Turismo 7 Launch Edition – PS5. Don't mess it up! Link here: https://www.amazon.ca/Gran-Turismo-7-Launch-PS5/dp/B09GTKZNYP\n",
    "\n",
    "    msg = f\"Subject: {subject}\\n\\n{body}\"\n",
    "    \n",
    "    server.sendmail(\n",
    "        'jose.uvic@gmail.com',\n",
    "        msg\n",
    "     \n",
    "    )"
   ]
  }
 ],
 "metadata": {
  "kernelspec": {
   "display_name": "Python 3",
   "language": "python",
   "name": "python3"
  },
  "language_info": {
   "codemirror_mode": {
    "name": "ipython",
    "version": 3
   },
   "file_extension": ".py",
   "mimetype": "text/x-python",
   "name": "python",
   "nbconvert_exporter": "python",
   "pygments_lexer": "ipython3",
   "version": "3.8.8"
  }
 },
 "nbformat": 4,
 "nbformat_minor": 5
}
